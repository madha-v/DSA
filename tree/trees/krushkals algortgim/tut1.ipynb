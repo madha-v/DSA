{
 "cells": [
  {
   "cell_type": "code",
   "execution_count": 1,
   "metadata": {},
   "outputs": [
    {
     "ename": "ModuleNotFoundError",
     "evalue": "No module named 'cv2'",
     "output_type": "error",
     "traceback": [
      "\u001b[1;31m---------------------------------------------------------------------------\u001b[0m",
      "\u001b[1;31mModuleNotFoundError\u001b[0m                       Traceback (most recent call last)",
      "Cell \u001b[1;32mIn[1], line 4\u001b[0m\n\u001b[0;32m      2\u001b[0m \u001b[38;5;28;01mfrom\u001b[39;00m\u001b[38;5;250m \u001b[39m\u001b[38;5;21;01mtensorflow\u001b[39;00m\u001b[38;5;250m \u001b[39m\u001b[38;5;28;01mimport\u001b[39;00m keras\n\u001b[0;32m      3\u001b[0m \u001b[38;5;28;01mimport\u001b[39;00m\u001b[38;5;250m \u001b[39m\u001b[38;5;21;01mnumpy\u001b[39;00m\u001b[38;5;250m \u001b[39m\u001b[38;5;28;01mas\u001b[39;00m\u001b[38;5;250m \u001b[39m\u001b[38;5;21;01mnp\u001b[39;00m\n\u001b[1;32m----> 4\u001b[0m \u001b[38;5;28;01mimport\u001b[39;00m\u001b[38;5;250m \u001b[39m\u001b[38;5;21;01mcv2\u001b[39;00m\n\u001b[0;32m      5\u001b[0m \u001b[38;5;28;01mimport\u001b[39;00m\u001b[38;5;250m \u001b[39m\u001b[38;5;21;01mos\u001b[39;00m\n\u001b[0;32m      6\u001b[0m \u001b[38;5;28;01mimport\u001b[39;00m\u001b[38;5;250m \u001b[39m\u001b[38;5;21;01mglob\u001b[39;00m\n",
      "\u001b[1;31mModuleNotFoundError\u001b[0m: No module named 'cv2'"
     ]
    }
   ],
   "source": [
    "import tensorflow as tf\n",
    "from tensorflow import keras\n",
    "import numpy as np\n",
    "import cv2\n",
    "import os\n",
    "import glob\n",
    "import urllib.request\n",
    "import matplotlib.pyplot as plt\n",
    "from concurrent.futures import ThreadPoolExecutor\n"
   ]
  },
  {
   "cell_type": "code",
   "execution_count": null,
   "metadata": {},
   "outputs": [],
   "source": [
    "\n",
    "layers = keras.layers\n",
    "K = tf.keras.backend\n",
    "\n",
    "os.makedirs(\"images\", exist_ok=True)\n",
    "\n"
   ]
  },
  {
   "cell_type": "code",
   "execution_count": null,
   "metadata": {},
   "outputs": [
    {
     "ename": "",
     "evalue": "",
     "output_type": "error",
     "traceback": [
      "\u001b[1;31mRunning cells with 'Python 3.13.2' requires the ipykernel package.\n",
      "\u001b[1;31mRun the following command to install 'ipykernel' into the Python environment. \n",
      "\u001b[1;31mCommand: '\"c:/Program Files/Python313/python3.13t.exe\" -m pip install ipykernel -U --user --force-reinstall'"
     ]
    }
   ],
   "source": [
    "def download_image(i):\n",
    "    url = f\"https://picsum.photos/128/128?random={i}\"\n",
    "    path = f\"images/image_{i}.jpg\"\n",
    "    urllib.request.urlretrieve(url, path)\n",
    "\n",
    "with ThreadPoolExecutor(max_workers=10) as executor:\n",
    "    executor.map(download_image, range(500))\n",
    "\n",
    "image_paths = glob.glob(\"images/*.jpg\")\n"
   ]
  },
  {
   "cell_type": "code",
   "execution_count": null,
   "metadata": {},
   "outputs": [
    {
     "ename": "",
     "evalue": "",
     "output_type": "error",
     "traceback": [
      "\u001b[1;31mRunning cells with 'Python 3.13.2' requires the ipykernel package.\n",
      "\u001b[1;31mRun the following command to install 'ipykernel' into the Python environment. \n",
      "\u001b[1;31mCommand: '\"c:/Program Files/Python313/python3.13t.exe\" -m pip install ipykernel -U --user --force-reinstall'"
     ]
    }
   ],
   "source": [
    "\n",
    "def load_and_preprocess_image(path):\n",
    "    image = cv2.imread(path)\n",
    "    image = cv2.cvtColor(image, cv2.COLOR_BGR2RGB) / 255.0\n",
    "    return image.astype(np.float32)\n",
    "\n",
    "images = np.asarray([load_and_preprocess_image(path) for path in image_paths])\n"
   ]
  },
  {
   "cell_type": "code",
   "execution_count": null,
   "metadata": {},
   "outputs": [
    {
     "ename": "",
     "evalue": "",
     "output_type": "error",
     "traceback": [
      "\u001b[1;31mRunning cells with 'Python 3.13.2' requires the ipykernel package.\n",
      "\u001b[1;31mRun the following command to install 'ipykernel' into the Python environment. \n",
      "\u001b[1;31mCommand: '\"c:/Program Files/Python313/python3.13t.exe\" -m pip install ipykernel -U --user --force-reinstall'"
     ]
    }
   ],
   "source": [
    "def random_pixel_dropout(image, dropout_rate=0.3):\n",
    "    mask = np.random.rand(*image.shape) > dropout_rate\n",
    "    return image * mask, mask\n",
    "\n",
    "masked_images, _ = zip(*[random_pixel_dropout(img) for img in images])\n",
    "masked_images = np.asarray(masked_images)\n",
    "\n",
    "dataset = tf.data.Dataset.from_tensor_slices((masked_images, images)) \\\n",
    "    .shuffle(len(images)) \\\n",
    "    .batch(32) \\\n",
    "    .prefetch(tf.data.AUTOTUNE)\n",
    "\n",
    "latent_dim = 128\n",
    "\n"
   ]
  },
  {
   "cell_type": "code",
   "execution_count": null,
   "metadata": {},
   "outputs": [
    {
     "ename": "",
     "evalue": "",
     "output_type": "error",
     "traceback": [
      "\u001b[1;31mRunning cells with 'Python 3.13.2' requires the ipykernel package.\n",
      "\u001b[1;31mRun the following command to install 'ipykernel' into the Python environment. \n",
      "\u001b[1;31mCommand: '\"c:/Program Files/Python313/python3.13t.exe\" -m pip install ipykernel -U --user --force-reinstall'"
     ]
    }
   ],
   "source": [
    "def sampling(args):\n",
    "    z_mean, z_log_var = args\n",
    "    epsilon = K.random_normal(shape=K.shape(z_mean))\n",
    "    return z_mean + K.exp(0.5 * z_log_var) * epsilon\n"
   ]
  },
  {
   "cell_type": "code",
   "execution_count": null,
   "metadata": {},
   "outputs": [
    {
     "ename": "",
     "evalue": "",
     "output_type": "error",
     "traceback": [
      "\u001b[1;31mRunning cells with 'Python 3.13.2' requires the ipykernel package.\n",
      "\u001b[1;31mRun the following command to install 'ipykernel' into the Python environment. \n",
      "\u001b[1;31mCommand: '\"c:/Program Files/Python313/python3.13t.exe\" -m pip install ipykernel -U --user --force-reinstall'"
     ]
    }
   ],
   "source": [
    "encoder_input = layers.Input(shape=(128, 128, 3))\n",
    "x = layers.Conv2D(64, (3, 3), activation='relu', padding='same', strides=2)(encoder_input)\n",
    "x = layers.Conv2D(128, (3, 3), activation='relu', padding='same', strides=2)(x)\n",
    "x = layers.Conv2D(256, (3, 3), activation='relu', padding='same', strides=2)(x)\n",
    "x = layers.Flatten()(x)\n",
    "z_mean = layers.Dense(latent_dim, name=\"z_mean\")(x)\n",
    "z_log_var = layers.Dense(latent_dim, name=\"z_log_var\")(x)\n",
    "z = layers.Lambda(sampling, output_shape=(latent_dim,), name=\"z\")([z_mean, z_log_var])\n",
    "encoder = keras.Model(encoder_input, [z_mean, z_log_var, z], name=\"encoder\")\n",
    "\n",
    "decoder_input = layers.Input(shape=(latent_dim,))\n",
    "x = layers.Dense(16 * 16 * 256, activation='relu')(decoder_input)\n",
    "x = layers.Reshape((16, 16, 256))(x)\n",
    "x = layers.Conv2DTranspose(256, (3, 3), activation='relu', padding='same', strides=2)(x)\n",
    "x = layers.Conv2DTranspose(128, (3, 3), activation='relu', padding='same', strides=2)(x)\n",
    "x = layers.Conv2DTranspose(64, (3, 3), activation='relu', padding='same', strides=2)(x)\n",
    "decoded = layers.Conv2DTranspose(3, (3, 3), activation='sigmoid', padding='same')(x)\n",
    "decoder = keras.Model(decoder_input, decoded, name=\"decoder\")"
   ]
  },
  {
   "cell_type": "code",
   "execution_count": null,
   "metadata": {},
   "outputs": [
    {
     "ename": "",
     "evalue": "",
     "output_type": "error",
     "traceback": [
      "\u001b[1;31mRunning cells with 'Python 3.13.2' requires the ipykernel package.\n",
      "\u001b[1;31mRun the following command to install 'ipykernel' into the Python environment. \n",
      "\u001b[1;31mCommand: '\"c:/Program Files/Python313/python3.13t.exe\" -m pip install ipykernel -U --user --force-reinstall'"
     ]
    }
   ],
   "source": [
    "class VAE(keras.Model):\n",
    "    def _init_(self, encoder, decoder, **kwargs):\n",
    "        super(VAE, self)._init_(**kwargs)\n",
    "        self.encoder = encoder\n",
    "        self.decoder = decoder\n",
    "\n",
    "    def compute_loss(self, x, y):\n",
    "        z_mean, z_log_var, z = self.encoder(x)\n",
    "        reconstruction = self.decoder(z)\n",
    "        reconstruction_loss = tf.reduce_mean(tf.square(y - reconstruction))\n",
    "        kl_loss = -0.5 * tf.reduce_mean(\n",
    "            1 + z_log_var - tf.square(z_mean) - tf.exp(z_log_var)\n",
    "        )\n",
    "        return reconstruction_loss + 0.0001 * kl_loss\n",
    "\n",
    "    def train_step(self, data):\n",
    "        x, y = data\n",
    "        with tf.GradientTape() as tape:\n",
    "            loss = self.compute_loss(x, y)\n",
    "        gradients = tape.gradient(loss, self.trainable_variables)\n",
    "        self.optimizer.apply_gradients(zip(gradients, self.trainable_variables))\n",
    "        return {\"loss\": loss}"
   ]
  },
  {
   "cell_type": "code",
   "execution_count": null,
   "metadata": {},
   "outputs": [
    {
     "ename": "",
     "evalue": "",
     "output_type": "error",
     "traceback": [
      "\u001b[1;31mRunning cells with 'Python 3.13.2' requires the ipykernel package.\n",
      "\u001b[1;31mRun the following command to install 'ipykernel' into the Python environment. \n",
      "\u001b[1;31mCommand: '\"c:/Program Files/Python313/python3.13t.exe\" -m pip install ipykernel -U --user --force-reinstall'"
     ]
    }
   ],
   "source": [
    "vae = VAE(encoder, decoder)\n",
    "vae.compile(optimizer=tf.keras.optimizers.Adam(learning_rate=0.0003))\n",
    "vae.fit(dataset, epochs=50)\n",
    "\n",
    "_, _, z_sample = encoder.predict(masked_images)\n",
    "np.save(\"compressed_data.npy\", z_sample)"
   ]
  },
  {
   "cell_type": "code",
   "execution_count": null,
   "metadata": {},
   "outputs": [
    {
     "ename": "",
     "evalue": "",
     "output_type": "error",
     "traceback": [
      "\u001b[1;31mRunning cells with 'Python 3.13.2' requires the ipykernel package.\n",
      "\u001b[1;31mRun the following command to install 'ipykernel' into the Python environment. \n",
      "\u001b[1;31mCommand: '\"c:/Program Files/Python313/python3.13t.exe\" -m pip install ipykernel -U --user --force-reinstall'"
     ]
    }
   ],
   "source": [
    "def reconstruct_images():\n",
    "    compressed_data = np.load(\"compressed_data.npy\")\n",
    "    reconstructed_images = decoder.predict(compressed_data)\n",
    "    \n",
    "    fig, axes = plt.subplots(5, 2, figsize=(10, 10))\n",
    "    for i in range(5):\n",
    "        axes[i, 0].imshow(masked_images[i])\n",
    "        axes[i, 0].axis('off')\n",
    "        axes[i, 1].imshow(reconstructed_images[i])\n",
    "        axes[i, 1].axis('off')\n",
    "    axes[0, 0].set_title(\"Masked\")\n",
    "    axes[0, 1].set_title(\"Reconstructed\")\n",
    "    plt.tight_layout()\n",
    "    plt.show()\n",
    "    reconstruct_images()\n",
    "\n"
   ]
  },
  {
   "cell_type": "code",
   "execution_count": null,
   "metadata": {},
   "outputs": [
    {
     "ename": "",
     "evalue": "",
     "output_type": "error",
     "traceback": [
      "\u001b[1;31mRunning cells with 'Python 3.13.2' requires the ipykernel package.\n",
      "\u001b[1;31mRun the following command to install 'ipykernel' into the Python environment. \n",
      "\u001b[1;31mCommand: '\"c:/Program Files/Python313/python3.13t.exe\" -m pip install ipykernel -U --user --force-reinstall'"
     ]
    }
   ],
   "source": [
    "\n",
    "def build_deblurring_model(input_shape=(128, 128, 3)):\n",
    "    inputs = keras.Input(shape=input_shape)\n",
    "    c1 = layers.Conv2D(64, (3,3), activation='relu', padding='same')(inputs)\n",
    "    c1 = layers.Conv2D(64, (3,3), activation='relu', padding='same')(c1)\n",
    "    p1 = layers.MaxPooling2D((2,2))(c1)\n",
    "    c2 = layers.Conv2D(128, (3,3), activation='relu', padding='same')(p1)\n",
    "    c2 = layers.Conv2D(128, (3,3), activation='relu', padding='same')(c2)\n",
    "    p2 = layers.MaxPooling2D((2,2))(c2)\n",
    "    c3 = layers.Conv2D(256, (3,3), activation='relu', padding='same')(p2)\n",
    "    c3 = layers.Conv2D(256, (3,3), activation='relu', padding='same')(c3)\n",
    "    p3 = layers.MaxPooling2D((2,2))(c3)\n",
    "    b = layers.Conv2D(512, (3,3), activation='relu', padding='same')(p3)\n",
    "    b = layers.Conv2D(512, (3,3), activation='relu', padding='same')(b)\n",
    "    u1 = layers.Conv2DTranspose(256, (2,2), strides=(2,2), padding='same')(b)\n",
    "    u1 = layers.concatenate([u1, c3])\n",
    "    c4 = layers.Conv2D(256, (3,3), activation='relu', padding='same')(u1)\n",
    "    c4 = layers.Conv2D(256, (3,3), activation='relu', padding='same')(c4)\n",
    "    u2 = layers.Conv2DTranspose(128, (2,2), strides=(2,2), padding='same')(c4)\n",
    "    u2 = layers.concatenate([u2, c2])\n",
    "    c5 = layers.Conv2D(128, (3,3), activation='relu', padding='same')(u2)\n",
    "    c5 = layers.Conv2D(128, (3,3), activation='relu', padding='same')(c5)\n",
    "    u3 = layers.Conv2DTranspose(64, (2,2), strides=(2,2), padding='same')(c5)\n",
    "    u3 = layers.concatenate([u3, c1])\n",
    "    c6 = layers.Conv2D(64, (3,3), activation='relu', padding='same')(u3)\n",
    "    c6 = layers.Conv2D(64, (3,3), activation='relu', padding='same')(c6)\n",
    "    outputs = layers.Conv2D(3, (1,1), activation='sigmoid')(c6)\n",
    "    model = keras.Model(inputs, outputs, name=\"DeblurringUNet\")\n",
    "    return model\n"
   ]
  },
  {
   "cell_type": "code",
   "execution_count": null,
   "metadata": {},
   "outputs": [
    {
     "ename": "",
     "evalue": "",
     "output_type": "error",
     "traceback": [
      "\u001b[1;31mRunning cells with 'Python 3.13.2' requires the ipykernel package.\n",
      "\u001b[1;31mRun the following command to install 'ipykernel' into the Python environment. \n",
      "\u001b[1;31mCommand: '\"c:/Program Files/Python313/python3.13t.exe\" -m pip install ipykernel -U --user --force-reinstall'"
     ]
    }
   ],
   "source": [
    "\n",
    "deblur_model = build_deblurring_model(input_shape=(128, 128, 3))\n",
    "deblur_model.compile(optimizer=keras.optimizers.Adam(learning_rate=0.0001), loss='mse')\n",
    "\n",
    "_, _, z_sample = encoder.predict(masked_images)\n",
    "blurred_images = decoder.predict(z_sample)\n",
    "\n",
    "deblur_model.fit(blurred_images, images, epochs=50, batch_size=32, validation_split=0.1)\n",
    "\n"
   ]
  },
  {
   "cell_type": "code",
   "execution_count": null,
   "metadata": {},
   "outputs": [
    {
     "ename": "",
     "evalue": "",
     "output_type": "error",
     "traceback": [
      "\u001b[1;31mRunning cells with 'Python 3.13.2' requires the ipykernel package.\n",
      "\u001b[1;31mRun the following command to install 'ipykernel' into the Python environment. \n",
      "\u001b[1;31mCommand: '\"c:/Program Files/Python313/python3.13t.exe\" -m pip install ipykernel -U --user --force-reinstall'"
     ]
    }
   ],
   "source": [
    "def reconstruct_and_deblur_images():\n",
    "    _, _, z_sample = encoder.predict(masked_images)\n",
    "    blurred_images = decoder.predict(z_sample)\n",
    "    deblurred_images = deblur_model.predict(blurred_images)\n",
    "    fig, axes = plt.subplots(5, 3, figsize=(15, 10))\n",
    "    for i in range(5):\n",
    "        axes[i, 0].imshow(masked_images[i])\n",
    "        axes[i, 0].axis('off')\n",
    "        axes[i, 1].imshow(blurred_images[i])\n",
    "        axes[i, 1].axis('off')\n",
    "        axes[i, 2].imshow(deblurred_images[i])\n",
    "        axes[i, 2].axis('off')\n",
    "    axes[0, 0].set_title(\"Masked\")\n",
    "    axes[0, 1].set_title(\"Reconstructed (Blurred)\")\n",
    "    axes[0, 2].set_title(\"Deblurred (Crystal Clear)\")\n",
    "    plt.tight_layout()\n",
    "    plt.show()\n",
    "\n",
    "reconstruct_and_deblur_images()"
   ]
  },
  {
   "cell_type": "code",
   "execution_count": null,
   "metadata": {},
   "outputs": [],
   "source": [
    "import tensorflow as tf\n",
    "from tensorflow import keras\n",
    "import numpy as np\n",
    "import cv2\n",
    "import os\n",
    "import glob\n",
    "import urllib.request\n",
    "import matplotlib.pyplot as plt\n",
    "from concurrent.futures import ThreadPoolExecutor\n"
   ]
  }
 ],
 "metadata": {
  "kernelspec": {
   "display_name": "tf_env",
   "language": "python",
   "name": "python3"
  },
  "language_info": {
   "codemirror_mode": {
    "name": "ipython",
    "version": 3
   },
   "file_extension": ".py",
   "mimetype": "text/x-python",
   "name": "python",
   "nbconvert_exporter": "python",
   "pygments_lexer": "ipython3",
   "version": "3.10.13"
  }
 },
 "nbformat": 4,
 "nbformat_minor": 2
}
